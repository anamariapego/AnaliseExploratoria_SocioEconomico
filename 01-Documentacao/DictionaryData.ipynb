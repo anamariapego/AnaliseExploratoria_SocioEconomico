{
 "cells": [
  {
   "cell_type": "markdown",
   "metadata": {},
   "source": [
    "<h1 style=\"text-align: center; color: #1f9d76\"> Dicionário dos Dados Utilizados no Projeto Brazilian E-commerce Analysis (Análise do e-commerce brasileiro)</h1>"
   ]
  },
  {
   "cell_type": "markdown",
   "metadata": {},
   "source": [
    "<h1 style=\"text-align:center;\" >Descrição dos Dados</h1>\n",
    "\n",
    "\n",
    "**Informações dos dados**: os dados utilizados para o desenvolvimento do **Projeto Brazilian E-commerce Analysis**  foram coletados do [Kaggle](https://www.kaggle.com/datasets/olistbr/brazilian-ecommerce). \n",
    "\n",
    "Vamos utilizar as seguintes bases: \n",
    " * [olist_customers](#ses1)\n",
    " * [olist_geolocation](#ses2)\n",
    " * [olist_order_items](#ses3)\n",
    " * [olist_order_payments](#ses4)\n",
    " * [olist_order_reviews](#ses5)\n",
    " * [olist_orders](#ses6)\n",
    " * [olist_products](#ses7)\n",
    " * [olist_sellers](#ses8)\n",
    " * [product_category_name_translation](#ses9)"
   ]
  },
  {
   "cell_type": "markdown",
   "metadata": {},
   "source": [
    "<h2><a id=\"ses1\">olist_customers</a></h2>"
   ]
  },
  {
   "cell_type": "markdown",
   "metadata": {},
   "source": [
    "|Date                     | Description\n",
    "|:---                     | :---\n",
    "|customer_id              |Chave para o conjunto de dados de pedidos cada pedido tem um customer_id exclusivo\n",
    "|customer_unique_id       |Identificador único do cliente\n",
    "|customer_zip_code_prefix |Primeiros cinco dígitos do código postal do cliente\n",
    "|customer_city            |Cidade do cliente\n",
    "|customer_state           |Estado do cliente"
   ]
  },
  {
   "cell_type": "markdown",
   "metadata": {},
   "source": [
    "<h2><a id=\"ses2\">olist_geolocation</a></h2>"
   ]
  },
  {
   "cell_type": "markdown",
   "metadata": {},
   "source": [
    "|Date                        | Description\n",
    "|:---                        | :---\n",
    "|geolocation_zip_code_prefix |Primeiros cinco dígitos do código postal\n",
    "|geolocation_lat             |Latitude\n",
    "|geolocation_lng             |longitude\n",
    "|geolocation_city            |Cidade \n",
    "|geolocation_state           |Estado"
   ]
  },
  {
   "cell_type": "markdown",
   "metadata": {},
   "source": [
    "<h2><a id=\"ses3\">olist_order_items</a></h2>"
   ]
  },
  {
   "cell_type": "markdown",
   "metadata": {},
   "source": [
    "|Date                | Description\n",
    "|:---                | :---\n",
    "|order_id            |Identificador do item pedido\n",
    "|order_item_id       |Número sequencial que identifica o número de itens incluídos em um mesmo pedido\n",
    "|product_id          |Identificador do produto\n",
    "|seller_id           |Identificador do vendedor \n",
    "|shipping_limit_date |Data limite de envio do vendedor para o manuseio do pedido ao parceiro logístico\n",
    "|price               |Preço\n",
    "|freight_value       |Frete do pedido (se um pedido tiver mais de um item o valor do frete é dividido entre os itens)"
   ]
  },
  {
   "cell_type": "markdown",
   "metadata": {},
   "source": [
    "<h2><a id=\"ses4\">olist_order_payments</a></h2>"
   ]
  },
  {
   "cell_type": "markdown",
   "metadata": {},
   "source": [
    "|Date                 | Description\n",
    "|:---                 | :---\n",
    "|order_id             |Identificador do pedido\n",
    "|payment_sequential   |Um cliente pode pagar um pedido com mais de um método de pagamento. Se ele fizer isso, uma sequência será criada para acomodar todos os pagamentos.\n",
    "|payment_type         |Forma de pagamento escolhida\n",
    "|payment_installments |Número de parcelas\n",
    "|payment_value        |Preço"
   ]
  },
  {
   "cell_type": "markdown",
   "metadata": {},
   "source": [
    "<h2><a id=\"ses5\">olist_order_reviews</a></h2>"
   ]
  },
  {
   "cell_type": "markdown",
   "metadata": {},
   "source": [
    "|Date                    | Description\n",
    "|:---                    | :---\n",
    "|review_id               |Identificador de avaliação\n",
    "|order_id                |Identificador do pedido\n",
    "|review_score            |Nota de 1 a 5 dada pelo cliente em uma pesquisa de satisfação\n",
    "|review_comment_title    |Título do comentário da avaliação deixada pelo cliente\n",
    "|review_comment_message  |Mensagem de comentário da avaliação deixada pelo cliente\n",
    "|review_creation_date    |Data em que a pesquisa de satisfação foi enviada ao cliente\n",
    "|review_answer_timestamp |Carimbo de data/hora da resposta da pesquisa de satisfação"
   ]
  },
  {
   "cell_type": "markdown",
   "metadata": {},
   "source": [
    "<h2><a id=\"ses6\">olist_orders</a></h2>"
   ]
  },
  {
   "cell_type": "markdown",
   "metadata": {},
   "source": [
    "|Date                          | Description\n",
    "|:---                          | :---\n",
    "|order_id                      |Identificador do pedido\n",
    "|customer_id                   |Identificador do cliente\n",
    "|order_status                  |Status do pedido \n",
    "|order_purchase_timestamp      |Carimbo de data/hora do pedido\n",
    "|order_approved_at             |Carimbo de data/hora de aprovação de pagamento\n",
    "|order_delivered_carrier_date  |Carimbo de data/hora postagem do pedido. Quando foi entregue ao parceiro logístico\n",
    "|order_delivered_customer_date |Carimbo de data/hora de entrega do pedido ao cliente\n",
    "|order_estimated_delivery_date |Data estimada de entrega que foi informada ao cliente no momento da compra"
   ]
  },
  {
   "cell_type": "markdown",
   "metadata": {},
   "source": [
    "<h2><a id=\"ses7\">olist_products</a></h2>"
   ]
  },
  {
   "cell_type": "markdown",
   "metadata": {},
   "source": [
    "|Date                       | Description\n",
    "|:---                       | :---\n",
    "|product_id                 |Identificador do produto\n",
    "|product_category_name      |Categoria do produto\n",
    "|product_name_lenght        |Número de caracteres extraídos do nome do produto \n",
    "|product_description_lenght |Número de caracteres extraídos da descrição do produto\n",
    "|product_photos_qty         |Número de fotos publicadas do produto\n",
    "|product_weight_g           |Peso do produto medido em gramas\n",
    "|product_length_cm          |Comprimento do produto medido em centímetros\n",
    "|product_height_cm          |Altura do produto medida em centímetros\n",
    "|product_width_cm           |Largura do produto medida em centímetros"
   ]
  },
  {
   "cell_type": "markdown",
   "metadata": {},
   "source": [
    "<h2><a id=\"ses8\">olist_sellers</a></h2>"
   ]
  },
  {
   "cell_type": "markdown",
   "metadata": {},
   "source": [
    "|Date                   | Description\n",
    "|:---                   | :---\n",
    "|seller_id              |Identificador do vendedor\n",
    "|seller_zip_code_prefix |Primeiros cinco dígitos do código postal do vendedor\n",
    "|seller_city            |Cidade\n",
    "|seller_state           |Estado"
   ]
  },
  {
   "cell_type": "markdown",
   "metadata": {},
   "source": [
    "<h2><a id=\"ses9\">product_category_name_translation</a></h2>"
   ]
  },
  {
   "cell_type": "markdown",
   "metadata": {},
   "source": [
    "|Date                          | Description\n",
    "|:---                          | :---\n",
    "|product_category_name         |Nome da categoria\n",
    "|product_category_name_english |Nome da categoria em inglês"
   ]
  },
  {
   "cell_type": "code",
   "execution_count": null,
   "metadata": {},
   "outputs": [],
   "source": []
  }
 ],
 "metadata": {
  "colab": {
   "name": "AE-01-TemposEntrada_x_Saida-FIAPE.ipynb",
   "provenance": []
  },
  "kernelspec": {
   "display_name": "Python 3 (ipykernel)",
   "language": "python",
   "name": "python3"
  },
  "language_info": {
   "codemirror_mode": {
    "name": "ipython",
    "version": 3
   },
   "file_extension": ".py",
   "mimetype": "text/x-python",
   "name": "python",
   "nbconvert_exporter": "python",
   "pygments_lexer": "ipython3",
   "version": "3.10.8"
  }
 },
 "nbformat": 4,
 "nbformat_minor": 4
}
